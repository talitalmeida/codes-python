{
 "cells": [
  {
   "cell_type": "markdown",
   "id": "05fee31c",
   "metadata": {},
   "source": [
    "# Lista 3 - 05/10/21 - Malhas de Repetição"
   ]
  },
  {
   "cell_type": "markdown",
   "id": "0eb35bb8",
   "metadata": {},
   "source": [
    "1 – Faça um programa que peça ao usuário um número e imprima todos os números de um até o número dado.\n",
    "\n",
    "    Ex.: \n",
    "        digite: 5 \n",
    "        imprime: 1 2 3 4 5"
   ]
  },
  {
   "cell_type": "code",
   "execution_count": 2,
   "id": "024556e7",
   "metadata": {},
   "outputs": [
    {
     "name": "stdout",
     "output_type": "stream",
     "text": [
      "Digite um número limite: 5\n",
      "1 2 3 4 5 "
     ]
    }
   ],
   "source": [
    "num = int(input('Digite um número limite: '))\n",
    "for cont in range(1, num+1):\n",
    "    print(cont, end = ' ') #imprime na mesma linha"
   ]
  },
  {
   "cell_type": "markdown",
   "id": "6fa4db01",
   "metadata": {},
   "source": [
    "2 – Peça ao usuário para digitar um número e imprima o fatorial de n."
   ]
  },
  {
   "cell_type": "code",
   "execution_count": 4,
   "id": "564499df",
   "metadata": {},
   "outputs": [
    {
     "name": "stdout",
     "output_type": "stream",
     "text": [
      "Digite um número para cálculo fatorial: 5\n",
      "O fatorial de 5! é 120\n"
     ]
    }
   ],
   "source": [
    "numero = int(input('Digite um número para cálculo fatorial: '))\n",
    "fatorial = 1\n",
    "for cont in range(1, numero+1):\n",
    "    fatorial = fatorial * cont\n",
    "print(f'O fatorial de {numero}! é {fatorial}')"
   ]
  },
  {
   "cell_type": "markdown",
   "id": "5323dcfc",
   "metadata": {},
   "source": [
    "3 – Peça ao usuário para digitar um número N e some todos os números de 1 a N utilizando o laço de repetição for."
   ]
  },
  {
   "cell_type": "code",
   "execution_count": 6,
   "id": "0e9e91d0",
   "metadata": {},
   "outputs": [
    {
     "name": "stdout",
     "output_type": "stream",
     "text": [
      "Digite um valor limite para o somatório: 5\n",
      "O resultado é: 15\n"
     ]
    }
   ],
   "source": [
    "num = int(input('Digite um valor limite para o somatório: '))\n",
    "somatorio = 0\n",
    "for cont in range (1, num+1):\n",
    "    somatorio = somatorio + cont\n",
    "print(f'O resultado é: {somatorio}')\n",
    "\n",
    "\n",
    "#------------------ saída de tela ------------------\n",
    "#cont   num       somatorio\n",
    "#  1 <=  5     0 = 0 + 1 (1)  <--- esse é o resultado que a variável está armazenando\n",
    "#  2 <=  5     1 = 1 + 2 (3)\n",
    "#  3 <=  5     3 = 3 + 3 (6)\n",
    "#  4 <=  5     6 = 6 + 4 (10)\n",
    "#  5 <=  5     10 = 10 + 5 (15)\n",
    "#  6 <=  5     xxxxxxxxxxxxxxxx\n",
    "  \n",
    "# 6 não é menor ou igual a 5, portanto a condição impede a entrada. \n",
    "# O código salta a condição e continua lendo as outras linhas"
   ]
  },
  {
   "cell_type": "markdown",
   "id": "b9da1266",
   "metadata": {},
   "source": [
    "4 – Faça um programa que imprima a tabuada do 9 (de 9x1 a 9x10) usando loops."
   ]
  },
  {
   "cell_type": "code",
   "execution_count": 9,
   "id": "78d6ff99",
   "metadata": {},
   "outputs": [
    {
     "name": "stdout",
     "output_type": "stream",
     "text": [
      "A tabuada de 9 é:\n",
      "\n",
      "9 x 1 = 9\n",
      "9 x 2 = 18\n",
      "9 x 3 = 27\n",
      "9 x 4 = 36\n",
      "9 x 5 = 45\n",
      "9 x 6 = 54\n",
      "9 x 7 = 63\n",
      "9 x 8 = 72\n",
      "9 x 9 = 81\n",
      "9 x 10 = 90\n"
     ]
    }
   ],
   "source": [
    "print(f'A tabuada de 9 é:\\n')\n",
    "for cont in range (1, 11):\n",
    "    resultado = 9*cont\n",
    "    print(f'9 x {cont} = {resultado}')"
   ]
  }
 ],
 "metadata": {
  "kernelspec": {
   "display_name": "Python 3",
   "language": "python",
   "name": "python3"
  },
  "language_info": {
   "codemirror_mode": {
    "name": "ipython",
    "version": 3
   },
   "file_extension": ".py",
   "mimetype": "text/x-python",
   "name": "python",
   "nbconvert_exporter": "python",
   "pygments_lexer": "ipython3",
   "version": "3.8.8"
  }
 },
 "nbformat": 4,
 "nbformat_minor": 5
}
