{
 "cells": [
  {
   "cell_type": "markdown",
   "id": "c7705de5",
   "metadata": {},
   "source": [
    "## Lista 7 - Dicionários e Tuplas"
   ]
  },
  {
   "cell_type": "markdown",
   "id": "802e5502",
   "metadata": {},
   "source": [
    "1. Crie uma tupla com todos os numeros de 0 a 9. Explore a sintaxe: use e depois não use parênteses."
   ]
  },
  {
   "cell_type": "code",
   "execution_count": null,
   "id": "fc32ccc3",
   "metadata": {},
   "outputs": [],
   "source": []
  },
  {
   "cell_type": "markdown",
   "id": "e0756a4f",
   "metadata": {},
   "source": [
    "2. Crie uma função que recebe uma lista de números e devolve, nesta ordem, o mínimo, a média, o desvio padrão e o máximo.\n",
    "\n",
    "        Dica: Use a biblioteca statistics (import statistics) para calcular o desvio padrão: desvio = statistics.stdev(lista)"
   ]
  },
  {
   "cell_type": "code",
   "execution_count": null,
   "id": "f8fa0901",
   "metadata": {},
   "outputs": [],
   "source": []
  },
  {
   "cell_type": "markdown",
   "id": "bc76f219",
   "metadata": {},
   "source": [
    "3. Crie uma função que recebe uma lista e retorna True se todos os seus elementos forem numéricos (int, float ou string contendo um int ou float) ou False do contrário. A função deve também retornar a lista tratada: transformar todas as entradas não numéricas em numéricas ou, no melhor caso, devolver a lista apenas."
   ]
  },
  {
   "cell_type": "code",
   "execution_count": null,
   "id": "34a3696a",
   "metadata": {},
   "outputs": [],
   "source": []
  },
  {
   "cell_type": "markdown",
   "id": "99011f28",
   "metadata": {},
   "source": [
    "4. Faça uma função que recebe valores a, b e c, resolve a equação quadrática a*x**2 + b*x+c=0 e retorna:\n",
    "\n",
    "        a. o valor de Δ onde Δ = b**2 - 4*a*c;\n",
    "        b. uma tupla com o valor do ponto mínimo ou máximo: x_m = -b/(2*a) e y_m = -Δ/(4*a);\n",
    "        c. uma lista contendo as raízes (a list apode ser vazia, caso Δ<0; pode conter apenas um elemento, caso Δ=0; ou conter duas raízes, caso Δ>0)."
   ]
  },
  {
   "cell_type": "code",
   "execution_count": null,
   "id": "9cf91327",
   "metadata": {},
   "outputs": [],
   "source": []
  },
  {
   "cell_type": "markdown",
   "id": "b8005fbe",
   "metadata": {},
   "source": [
    "5. Crie um dicionário cujas chaves são os meses do ano e os valores são a duração (em dias) de cada mês."
   ]
  },
  {
   "cell_type": "code",
   "execution_count": null,
   "id": "c0e59ce5",
   "metadata": {},
   "outputs": [],
   "source": []
  },
  {
   "cell_type": "markdown",
   "id": "7a5f67bf",
   "metadata": {},
   "source": [
    "6. Imprima as chaves seguidas dos seus valores para dicionário criado no exercício anterior.\n",
    "\n",
    "        Exemplo: \n",
    "            Janeiro - 31\n",
    "            Fevereiro - 28\n",
    "            Março - 31\n",
    "            Etc..."
   ]
  },
  {
   "cell_type": "code",
   "execution_count": null,
   "id": "307f0dc2",
   "metadata": {},
   "outputs": [],
   "source": []
  },
  {
   "cell_type": "markdown",
   "id": "8ef302a0",
   "metadata": {},
   "source": [
    "7. Crie um dicionário para as seguintes relações:\n",
    "\n",
    "        'Banana': 3.0\n",
    "        'Cebola': 4.0\n",
    "        'Maçã': 5.7\n",
    "        'Abacaxi': 8.0"
   ]
  },
  {
   "cell_type": "code",
   "execution_count": null,
   "id": "ff40c973",
   "metadata": {},
   "outputs": [],
   "source": []
  },
  {
   "cell_type": "markdown",
   "id": "75ba1c1e",
   "metadata": {},
   "source": [
    "8. Altere o valor da chave 'Maçã' no dicionário do exercício anterior para 8.6."
   ]
  },
  {
   "cell_type": "code",
   "execution_count": null,
   "id": "20bd7a2e",
   "metadata": {},
   "outputs": [],
   "source": []
  },
  {
   "cell_type": "markdown",
   "id": "86f34092",
   "metadata": {},
   "source": [
    "9. Crie uma função que receba os valores do nome, idade e e-mail de uma pessoa e guarde-os em um dicionário com as chaves 'nome', 'idade' e 'email', respectivamente. Sua função deve retornar esse dicionário."
   ]
  },
  {
   "cell_type": "code",
   "execution_count": null,
   "id": "9dc9d61c",
   "metadata": {},
   "outputs": [],
   "source": []
  },
  {
   "attachments": {
    "image-2.png": {
     "image/png": "[encoded data removed]"
    }
   },
   "cell_type": "markdown",
   "id": "8ec2a7f6",
   "metadata": {},
   "source": [
    "10. Como você armazenaria a seguinte tabela usando apenas dicionários? Tente imprimir o valor correspondente da linha Pedro x Coluna B.\n",
    "\n",
    "![image-2.png](attachment:image-2.png)"
   ]
  },
  {
   "cell_type": "code",
   "execution_count": null,
   "id": "a3a9b632",
   "metadata": {},
   "outputs": [],
   "source": []
  },
  {
   "attachments": {},
   "cell_type": "markdown",
   "id": "3f9764b0",
   "metadata": {},
   "source": [
    "11. Faça um programa que conte quantas vezes cada elemento aparece em uma lista (pode criar uma lista na mão). Esse programa deverá guardar os dados em um dicionário no qual as chaves são os elementos da lista e os valores são a contagem de quantas vezes esse elemento aparece."
   ]
  },
  {
   "cell_type": "code",
   "execution_count": null,
   "id": "80b33762",
   "metadata": {},
   "outputs": [],
   "source": []
  },
  {
   "cell_type": "markdown",
   "id": "700f8b62",
   "metadata": {},
   "source": [
    "12. Faça um programa que fique pedindo uma resposta do usuário entre 1,2 e 3. Se o usuário digitar 1, o programa deve cadastrar um novo usuário e guardar esse cadastro num dicionário cuja chave será o CPF da pessoa. Quando o usuário digitar 2, o programa deve imprimir os usuários cadastrados; e se o usuário digitar 3, o programa deve fechar.\n",
    "\n",
    "        Exemplo do dicionário:\n",
    "        '987.654.321-00':{'nome': Maria, 'idade': 20, 'email': maria@gmail.com}"
   ]
  },
  {
   "cell_type": "code",
   "execution_count": null,
   "id": "37296a41",
   "metadata": {},
   "outputs": [],
   "source": []
  },
  {
   "cell_type": "markdown",
   "id": "68a10d43",
   "metadata": {},
   "source": [
    "13. Implemente um sistema de busca para o programa de exercício anterior. Isto é, se o usuário digitar 4, procure um determinado usuário pelo seu CPF."
   ]
  },
  {
   "cell_type": "code",
   "execution_count": null,
   "id": "ebd65949",
   "metadata": {},
   "outputs": [],
   "source": []
  }
 ],
 "metadata": {
  "kernelspec": {
   "display_name": "Python 3",
   "language": "python",
   "name": "python3"
  },
  "language_info": {
   "codemirror_mode": {
    "name": "ipython",
    "version": 3
   },
   "file_extension": ".py",
   "mimetype": "text/x-python",
   "name": "python",
   "nbconvert_exporter": "python",
   "pygments_lexer": "ipython3",
   "version": "3.8.8"
  }
 },
 "nbformat": 4,
 "nbformat_minor": 5
}
