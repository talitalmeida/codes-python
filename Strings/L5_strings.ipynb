{
 "cells": [
  {
   "cell_type": "markdown",
   "id": "b11d7c28",
   "metadata": {},
   "source": [
    "# Aula de 03/12/21 - Strings e Concatenção"
   ]
  },
  {
   "cell_type": "markdown",
   "id": "8c8804bd",
   "metadata": {},
   "source": [
    "1 - Faça um programa que peça para o usuário digitar uma palavra e imprima cada letra em uma linha"
   ]
  },
  {
   "cell_type": "code",
   "execution_count": 26,
   "id": "68f6c17e",
   "metadata": {},
   "outputs": [
    {
     "name": "stdout",
     "output_type": "stream",
     "text": [
      "Digite uma palavra: idomo\n",
      "i\n",
      "d\n",
      "o\n",
      "m\n",
      "o\n"
     ]
    }
   ],
   "source": [
    "palavra = str(input('Digite uma palavra: '))\n",
    "for caracter in palavra:\n",
    "    print(caracter)"
   ]
  },
  {
   "cell_type": "markdown",
   "id": "3de627af",
   "metadata": {},
   "source": [
    "2 - Faça um programa que peça para o usuário digitar uma palavra e cria uma nova string igual, copiando letra por letra a palavra digitada, depois imprima a nova string."
   ]
  },
  {
   "cell_type": "code",
   "execution_count": 27,
   "id": "fb1d1714",
   "metadata": {},
   "outputs": [
    {
     "name": "stdout",
     "output_type": "stream",
     "text": [
      "i\n",
      "id\n",
      "ido\n",
      "idom\n",
      "idomo\n"
     ]
    }
   ],
   "source": [
    "espelho_palavra = ''\n",
    "for caracter in palavra:\n",
    "    espelho_palavra += caracter\n",
    "    print(espelho_palavra) #mostrando q estou copiando letra por letra"
   ]
  },
  {
   "cell_type": "markdown",
   "id": "7f0f8236",
   "metadata": {},
   "source": [
    "3 - Altere o exercício para que a string copiada alterne entre letras maiúsculas e minúsculas. \n",
    "\n",
    "    Exemplo: se o usuário digitar 'latex' o programa deve imprimir 'LaTeX'."
   ]
  },
  {
   "cell_type": "code",
   "execution_count": 28,
   "id": "201a2789",
   "metadata": {},
   "outputs": [
    {
     "name": "stdout",
     "output_type": "stream",
     "text": [
      "IdOmO\n"
     ]
    }
   ],
   "source": [
    "espelho_palavra = ''\n",
    "for i in range(len(palavra)): #para a posição entre o tamanho de palavra\n",
    "    caracter = palavra[i] # eu recebo o valor q está em determinada posição\n",
    "    if i %2 == 0:\n",
    "        espelho_palavra += caracter.upper()\n",
    "    else:\n",
    "        espelho_palavra += caracter.lower()\n",
    "print(espelho_palavra)"
   ]
  },
  {
   "cell_type": "markdown",
   "id": "f5f4ada9",
   "metadata": {},
   "source": [
    "4 - Faça um programa que pede para o usuário digitar uma nova string igual, porém com espaço entre cada letra, depois imprima a nova string.\n",
    "\n",
    "    Exemplo: se o usuário digitar 'python' o programa deve imprimir 'p y t h o n'"
   ]
  },
  {
   "cell_type": "code",
   "execution_count": 32,
   "id": "d5835f5f",
   "metadata": {},
   "outputs": [
    {
     "name": "stdout",
     "output_type": "stream",
     "text": [
      " i d o m o \n"
     ]
    }
   ],
   "source": [
    "espelho_palavra = ' '\n",
    "for caracter in palavra:\n",
    "    espelho_palavra += caracter + ' '\n",
    "print(espelho_palavra)\n",
    "    \n",
    "#print(caracter, end = ' ')"
   ]
  },
  {
   "cell_type": "markdown",
   "id": "814741cd",
   "metadata": {},
   "source": [
    "5 - Faça uma função que receba uma string e retorne uma nova string substituindo:\n",
    "\n",
    "    'a' por '4'\n",
    "    'e' por '3'\n",
    "    'l' por '1'\n",
    "    't' por '7'"
   ]
  },
  {
   "cell_type": "code",
   "execution_count": null,
   "id": "6a953ab8",
   "metadata": {},
   "outputs": [],
   "source": []
  },
  {
   "cell_type": "markdown",
   "id": "20443168",
   "metadata": {},
   "source": [
    "6 - Faça um programa que recebe uma string e retorna ela ao contrário.\n",
    "\n",
    "    Exemplo: Recebe 'teste' e retorna 'etset'."
   ]
  },
  {
   "cell_type": "code",
   "execution_count": 6,
   "id": "27b47fd1",
   "metadata": {},
   "outputs": [
    {
     "name": "stdout",
     "output_type": "stream",
     "text": [
      "Digite uma frase: Teste\n",
      "etseT\n"
     ]
    }
   ],
   "source": [
    "frase = input(\"Digite uma frase: \")\n",
    "print(frase[::-1])"
   ]
  },
  {
   "cell_type": "markdown",
   "id": "98fba800",
   "metadata": {},
   "source": [
    "7 - Agora faça uma função que recebe uma palavra e diz se ela é um palíndromo, ou seja, se ela é igual a ela mesma ao contrário.\n",
    "\n",
    "    Dica: Use a função do exercício 6."
   ]
  },
  {
   "cell_type": "code",
   "execution_count": 16,
   "id": "a2ce9524",
   "metadata": {},
   "outputs": [
    {
     "name": "stdout",
     "output_type": "stream",
     "text": [
      "Digite uma palavra para verificar se é palíndromo: osso\n",
      "True\n"
     ]
    }
   ],
   "source": [
    "def palindromo(analise):\n",
    "    v_analise = analise[::-1]\n",
    "    if v_analise == analise:\n",
    "        return True\n",
    "    else:\n",
    "        return False\n",
    "print(palindromo(input('Digite uma palavra para verificar se é palíndromo: ')))"
   ]
  },
  {
   "cell_type": "markdown",
   "id": "1e1f34b9",
   "metadata": {},
   "source": [
    "8 - Faça uma função que receba um texto e uma palavra, então verifique se a palavra está no texto, retornando True ou False."
   ]
  },
  {
   "cell_type": "code",
   "execution_count": 25,
   "id": "079c8066",
   "metadata": {},
   "outputs": [
    {
     "name": "stdout",
     "output_type": "stream",
     "text": [
      "Digite um texto:\n",
      "Quando as palavras fogem de mim é difícil encontrar uma outra forma de expressão, então eu paro e encaro o nada, pois a visão continua aqui\n",
      "\n",
      "Digite uma palavra que talvez esteja no seu texto: Talitinha\n"
     ]
    },
    {
     "data": {
      "text/plain": [
       "False"
      ]
     },
     "execution_count": 25,
     "metadata": {},
     "output_type": "execute_result"
    }
   ],
   "source": [
    "def contem(txt, plvr):\n",
    "    text = txt.split()\n",
    "    if plvr in text:\n",
    "        return True\n",
    "    else:\n",
    "        return False\n",
    "texto = input(\"Digite um texto:\\n\")\n",
    "palavra = input(\"\\nDigite uma palavra que talvez esteja no seu texto: \")\n",
    "contem(texto, palavra)\n"
   ]
  },
  {
   "cell_type": "markdown",
   "id": "2eb5a56a",
   "metadata": {},
   "source": [
    "9 - Faça uma função que receba uma string que contém tanto números quanto letras e caracteres especiais, e que separe as letras em uma variável e os números em outra (os caracteres especiais podem ser descartados.Ao final a função deve imprimir as duas variáveis.)"
   ]
  },
  {
   "cell_type": "code",
   "execution_count": null,
   "id": "f2efd8ab",
   "metadata": {},
   "outputs": [],
   "source": []
  },
  {
   "cell_type": "markdown",
   "id": "3def7b03",
   "metadata": {},
   "source": [
    "## Desafios"
   ]
  },
  {
   "cell_type": "markdown",
   "id": "4e3e9b53",
   "metadata": {},
   "source": [
    "1 - Faça uma função que receba uma string e uma letra e:\n",
    "\n",
    "    a. imprima quantas vezes a letra aparece na string;\n",
    "    b. imprima todas as posições em que a letra aparece na string;\n",
    "    c. retorne a distância entre a primeira e a última aparição dessa letra na string."
   ]
  },
  {
   "cell_type": "markdown",
   "id": "fcb40b3a",
   "metadata": {},
   "source": [
    "2 - Faça uma função que criptografa uma mensagem subtituindo cada letra pela letra oposta do dicionário:\n",
    "\n",
    "    'a' por 'z'\n",
    "    'b' por 'y'\n",
    "    'c' por 'x'"
   ]
  },
  {
   "cell_type": "code",
   "execution_count": null,
   "id": "3e250434",
   "metadata": {},
   "outputs": [],
   "source": []
  }
 ],
 "metadata": {
  "kernelspec": {
   "display_name": "Python 3",
   "language": "python",
   "name": "python3"
  },
  "language_info": {
   "codemirror_mode": {
    "name": "ipython",
    "version": 3
   },
   "file_extension": ".py",
   "mimetype": "text/x-python",
   "name": "python",
   "nbconvert_exporter": "python",
   "pygments_lexer": "ipython3",
   "version": "3.8.8"
  }
 },
 "nbformat": 4,
 "nbformat_minor": 5
}
