{
 "cells": [
  {
   "cell_type": "markdown",
   "id": "9d95a4c3",
   "metadata": {},
   "source": [
    "# Lista 4 - Estrut. de Repetição, Listas, Funções de Listas"
   ]
  },
  {
   "cell_type": "markdown",
   "id": "5aa832a3",
   "metadata": {},
   "source": [
    "1 – Crie uma lista qualquer e faça um programa que imprima cada elemento da lista usando o for."
   ]
  },
  {
   "cell_type": "code",
   "execution_count": 7,
   "id": "3afa26c5",
   "metadata": {},
   "outputs": [
    {
     "name": "stdout",
     "output_type": "stream",
     "text": [
      "Bárbara Almeida\n",
      "barbaralmeida@email.com\n",
      "17\n",
      "1.7\n",
      "Cientista\n"
     ]
    }
   ],
   "source": [
    "mood = ['Bárbara Almeida', 'barbaralmeida@email.com', 17, 1.70, 'Cientista']\n",
    "for position in mood:\n",
    "    print(position)"
   ]
  },
  {
   "cell_type": "markdown",
   "id": "da68606f",
   "metadata": {},
   "source": [
    "2 – Faça um programa que imprima todos os itens de uma lista usando while e compare com o exercício 1."
   ]
  },
  {
   "cell_type": "code",
   "execution_count": 4,
   "id": "4f19cd83",
   "metadata": {},
   "outputs": [
    {
     "name": "stdout",
     "output_type": "stream",
     "text": [
      "Bárbara Almeida\n",
      "barbaralmeida@email.com\n",
      "17\n",
      "1.7\n",
      "Cientista\n"
     ]
    }
   ],
   "source": [
    "dados = ['Bárbara Almeida', 'barbaralmeida@email.com', 17, 1.70, 'Cientista']\n",
    "position = 0                  #position é o índice de cada elemento, varia de 0 a 4.\n",
    "while position < len(dados):  #O len(dados) retorna a quantidade de elementos, no caso é 5. \n",
    "    print(dados[position])    #mostra o elemento em determinada posição da lista\n",
    "    position += 1             #vai pra próxima posição"
   ]
  },
  {
   "cell_type": "markdown",
   "id": "1d0c3093",
   "metadata": {},
   "source": [
    "3 – Faça um programa que peça para o usuário digitar um número n e imprima uma lista com todos os números de 0 a n-1.\n",
    "\t\n",
    "\tExemplo: se o usuário digitar 5, o programa deve imprimir [0, 1, 2, 3, 4]"
   ]
  },
  {
   "cell_type": "code",
   "execution_count": 4,
   "id": "cfe6d79c",
   "metadata": {},
   "outputs": [
    {
     "name": "stdout",
     "output_type": "stream",
     "text": [
      "Digite o tamanho da lista:5\n",
      "Os 5 elementos da lista são [1, 2, 3, 4, 5]\n"
     ]
    }
   ],
   "source": [
    "size = int(input('Digite o tamanho da lista:'))\n",
    "count = []\n",
    "for i in range(0, size):\n",
    "    count.append(i+1)\n",
    "print(f'Os {size} elementos da lista são {count}')    \n",
    "    "
   ]
  },
  {
   "cell_type": "markdown",
   "id": "bafbc682",
   "metadata": {},
   "source": [
    "4 – Faça um programa que olhe todos os itens de uma lista e diga quantos deles são pares."
   ]
  },
  {
   "cell_type": "code",
   "execution_count": 37,
   "id": "c1081dee",
   "metadata": {
    "scrolled": true
   },
   "outputs": [
    {
     "name": "stdout",
     "output_type": "stream",
     "text": [
      "Ao todo a lista [10, 35, 42, 4, 5] possui 3 números pares [10, 42, 4]\n"
     ]
    }
   ],
   "source": [
    "valor=[10,35,42,4,5]\n",
    "pares=[]\n",
    "count=0\n",
    "for i in valor:            #a variável i percorre cada valor na lista, como se espelhasse o valor do índice\n",
    "    if i%2 == 0:\n",
    "        count += 1\n",
    "        pares.append(i)\n",
    "print(f\"Ao todo a lista {valor} possui {count} números pares {pares}\")"
   ]
  },
  {
   "cell_type": "markdown",
   "id": "8cc3aa3b",
   "metadata": {},
   "source": [
    "5 – Faça um programa que imprima o maior número de uma lista, sem usar a função max( )."
   ]
  },
  {
   "cell_type": "code",
   "execution_count": 47,
   "id": "caa5a6d0",
   "metadata": {},
   "outputs": [
    {
     "name": "stdout",
     "output_type": "stream",
     "text": [
      "O maior número da lista [1, 2, 3, 4, 5] é 5\n"
     ]
    }
   ],
   "source": [
    "elementos=[1,2,3,4,5]\n",
    "maiornum=0\n",
    "for num in elementos:\n",
    "    if num > maiornum:\n",
    "        maiornum=num\n",
    "print(f'O maior número da lista {elementos} é {maiornum}')    "
   ]
  },
  {
   "cell_type": "markdown",
   "id": "a7790e55",
   "metadata": {},
   "source": [
    "6 – Agora usando a função max( ) faça um programa que imprima os três maiores  números de uma lista.\n",
    "\n",
    "\tDica: use o método próprio de listas.remove( )."
   ]
  },
  {
   "cell_type": "code",
   "execution_count": 53,
   "id": "0749fd04",
   "metadata": {},
   "outputs": [
    {
     "name": "stdout",
     "output_type": "stream",
     "text": [
      "O maior número da lista [20, 30, 40, 2, 7, 23] é 40\n"
     ]
    }
   ],
   "source": [
    "cascata=[20,30,40,2,7,23]\n",
    "maior=max(cascata)\n",
    "print(f'O maior número da lista {cascata} é {maior}')"
   ]
  },
  {
   "cell_type": "markdown",
   "id": "3d829b27",
   "metadata": {},
   "source": [
    "7 – Faça um programa que, dadas duas listas de mesmo tamanho, crie uma nova lista com cada elemento igual a soma dos elementos da lista 1 com os da lista 2, na mesma posição.\n",
    "\n",
    "    Exemplo:\n",
    "    Dadas lista1 = [1, 4, 5] e lista2 = [2, 2, 3], então lista3 = [1+2, 4+2, 5+3] = [3, 6, 8]"
   ]
  },
  {
   "cell_type": "code",
   "execution_count": 7,
   "id": "6091c718",
   "metadata": {},
   "outputs": [
    {
     "name": "stdout",
     "output_type": "stream",
     "text": [
      "A nova lista é: [5, 2, 5]\n"
     ]
    }
   ],
   "source": [
    "lista1 = [1,-1,3]\n",
    "lista2 = [4,3,2]\n",
    "novalista = [lista1[0]+lista2[0], lista1[1]+lista2[1], lista1[2]+lista2[2]]\n",
    "print(\"A nova lista é:\", novalista)"
   ]
  },
  {
   "cell_type": "markdown",
   "id": "3a6c0f8f",
   "metadata": {},
   "source": [
    "8 – Faça um programa que dadas duas listas de mesmo tamanho, imprima o produto escalar entre elas.\n",
    "\n",
    "    Obs.: produto escalar é a soma do resultado da multiplicação entre o número na posição i na lista2, com i variando de 0 ao tamanho da lista.\n"
   ]
  },
  {
   "cell_type": "code",
   "execution_count": 8,
   "id": "dbd6b155",
   "metadata": {},
   "outputs": [
    {
     "name": "stdout",
     "output_type": "stream",
     "text": [
      "Quantos pontos o vetor em questão: 2\n",
      "Digite o valor do ponto x do 1º vetor : 8\n",
      "Digite o valor do ponto y do 1º vetor : 2\n",
      "\n",
      "Digite o valor do ponto x do 2º vetor : 4\n",
      "Digite o valor do ponto y do 2º vetor : 3\n",
      "\n",
      "O produto escalar é = 38.0\n"
     ]
    }
   ],
   "source": [
    "vetor1=[]\n",
    "vetor2=[]\n",
    "resul_prod_escalar = 0\n",
    "tamanho = int(input('Quantos pontos o vetor em questão: '))\n",
    "if tamanho == 2:\n",
    "    coord=['x','y']\n",
    "else:\n",
    "    coord=['x','y','z']\n",
    "for i in range(tamanho):\n",
    "    num = float(input(f\"Digite o valor do ponto {coord[i]} do 1º vetor : \"))\n",
    "    vetor1.append(num)\n",
    "print()\n",
    "for i in range(tamanho):\n",
    "    num = float(input(f\"Digite o valor do ponto {coord[i]} do 2º vetor : \"))\n",
    "    vetor2.append(num)\n",
    "for i in range(tamanho):\n",
    "    mult=(vetor1[i]*vetor2[i])\n",
    "    resul_prod_escalar = mult+resul_prod_escalar\n",
    "print(f'\\nO produto escalar é = {resul_prod_escalar}')\n",
    "\n",
    "\n",
    "\n",
    "\n",
    "\n",
    "#print(f'\\n({vetor1[0]}*{vetor2[0]})+({vetor1[1]}*{vetor2[1]})+({vetor1[2]}*{vetor2[2]})= [{prod_escalar[0]}+{prod_escalar[1]}+{prod_escalar[2]}]')"
   ]
  },
  {
   "cell_type": "markdown",
   "id": "fc63a82d",
   "metadata": {},
   "source": [
    "9 – Faça um programa que pede para o usuário digitar 5 números e, ao final, imprime uma lista com os 5 números digitados pelo usuário (sem converter os números para int ou float).\n",
    "\n",
    "\tExemplo: Se o usuário digitar 1, 5, 2, 3, 6, o programa deve imprimir a lista [‘1’, ‘5’, ‘2’, ‘3’, ‘6’]"
   ]
  },
  {
   "cell_type": "code",
   "execution_count": 20,
   "id": "b0464901",
   "metadata": {},
   "outputs": [
    {
     "name": "stdout",
     "output_type": "stream",
     "text": [
      "Digite 5 números(separe com ', '): 1, 2\n",
      "Houve um erro\n",
      "Digite 5 números (separe com ', '): 1, 3, 4\n",
      "Houve um erro\n",
      "Digite 5 números (separe com ', '): 5, 4, 3, 2, 1\n",
      "['5', '4', '3', '2', '1']\n"
     ]
    }
   ],
   "source": [
    "num5 = input(\"Digite 5 números(separe com ', '): \")\n",
    "conteudo = num5.split(', ')\n",
    "while len(conteudo) != 5:\n",
    "    print(\"Houve um erro\")\n",
    "    num5 = input(\"Digite 5 números (separe com ', '): \")\n",
    "    conteudo = num5.split(', ')\n",
    "print(conteudo)"
   ]
  },
  {
   "cell_type": "markdown",
   "id": "11e96f46",
   "metadata": {},
   "source": [
    "10 – Pegue a lista gerada no exercício anterior e transforme cada um dos itens dessa lista em um float.\n",
    "\n",
    "\tObs.: Não é para alterar o programa anterior, mas sim a lista gerada por ele."
   ]
  },
  {
   "cell_type": "code",
   "execution_count": 29,
   "id": "6bbaf4b1",
   "metadata": {},
   "outputs": [
    {
     "name": "stdout",
     "output_type": "stream",
     "text": [
      "[1.0, 2.0, 3.0, 4.0, 5.0]\n",
      "<class 'float'>\n"
     ]
    }
   ],
   "source": [
    "for i in range(0, len(conteudo)):\n",
    "    conteudo[i] = float(conteudo[i])\n",
    "print(conteudo)\n",
    "print(type(conteudo[0]))"
   ]
  },
  {
   "cell_type": "markdown",
   "id": "12bf452d",
   "metadata": {},
   "source": [
    "11 – Faça um programa que peça as 4 notas bimestrais e mostre a média aritmética delas, usando listas."
   ]
  },
  {
   "cell_type": "code",
   "execution_count": 35,
   "id": "4ef113f6",
   "metadata": {},
   "outputs": [
    {
     "name": "stdout",
     "output_type": "stream",
     "text": [
      "Digite a nota do 1º bimestre : 7\n",
      "Digite a nota do 2º bimestre : 8\n",
      "Digite a nota do 3º bimestre : 9\n",
      "Digite a nota do 4º bimestre : 10\n",
      "\n",
      "A média aritmética do aluno é: 8.5\n"
     ]
    }
   ],
   "source": [
    "notas = list()\n",
    "size = 4\n",
    "media = 0\n",
    "for i in range(size):\n",
    "    nota = float(input(f\"Digite a nota do {i + 1}º bimestre : \"))\n",
    "    notas.append(nota)\n",
    "    media = notas[i] + media\n",
    "print(f\"\\nA média aritmética do aluno é: {media/size:.1f}\")"
   ]
  },
  {
   "cell_type": "markdown",
   "id": "9dc4c000",
   "metadata": {},
   "source": [
    "12 – Sorteie uma lista de 10 números e imprima:\n",
    "\n",
    "    a. Uma lista com os 4 primeiros números;\n",
    "    b. Uma lista com os 5 últimos números;\n",
    "    c. Uma lista contendo apenas os elementos das posições pares;\n",
    "    d. Uma lista contendo apenas os elementos das posições ímpares;\n",
    "    e. A lista inversa da lista sorteada (isto é, uma lista que começa com o último elemento da lista sorteada e terminada com o primeiro);\n",
    "    f. Uma lista inversa dos 5 primeiros números;\n",
    "    g. Uma lista inversa dos 5 últimos números.."
   ]
  },
  {
   "cell_type": "code",
   "execution_count": 60,
   "id": "03384cf7",
   "metadata": {},
   "outputs": [
    {
     "name": "stdout",
     "output_type": "stream",
     "text": [
      "A lista sorteada foi: [1, 3, 6, 6, 6, 8, 1, 7, 9, 1]\n",
      "Os últimos 5 são:[8, 1, 7, 9, 1]\n",
      "Os elementos pares são:[6, 6, 6, 8]\n",
      "Os elementos ímpares são:[1, 3, 1, 7, 9, 1]\n",
      "A lista inversa é:[1, 9, 7, 1, 8, 6, 6, 6, 3, 1]\n",
      "A lista inversa dos 5 primeiros números são:[1, 9, 7, 1, 8]\n",
      "A lista inversa dos 5 últimos números são:[6, 6, 6, 3, 1]\n"
     ]
    }
   ],
   "source": [
    "import random\n",
    "lista_sorteada = list()\n",
    "ultimos5 = list()\n",
    "position_par = list()\n",
    "position_impar = list()\n",
    "lista_inversa = list()\n",
    "inversa5primer = list()\n",
    "inversa5ultimos = list()\n",
    "for i in range(0, 10):\n",
    "    sorteado = random.randint(1, 10)\n",
    "    lista_sorteada.append(sorteado)\n",
    "print(f\"A lista sorteada foi: {lista_sorteada}\")\n",
    "for elementos in lista_sorteada:\n",
    "    ultimos5 = lista_sorteada[5:]\n",
    "print(f'Os últimos 5 são:{ultimos5}')\n",
    "for elementos in lista_sorteada:     #a variável elementos percorre cada valor na lista, como se espelhasse o valor do índice\n",
    "    if elementos%2 == 0:\n",
    "        position_par.append(elementos)\n",
    "    else:\n",
    "        position_impar.append(elementos)\n",
    "print(f'Os elementos pares são:{position_par}')\n",
    "print(f'Os elementos ímpares são:{position_impar}')\n",
    "for elementos in range(9, -1, -1):\n",
    "    lista_inversa.append(lista_sorteada[elementos])\n",
    "print(f'A lista inversa é:{lista_inversa}')\n",
    "for elementos in lista_inversa:\n",
    "    inversa5primer = lista_inversa[:5]\n",
    "print(f'A lista inversa dos 5 primeiros números são:{inversa5primer}')\n",
    "for elementos in lista_inversa:\n",
    "    inversa5ultimos = lista_inversa[5:]\n",
    "print(f'A lista inversa dos 5 últimos números são:{inversa5ultimos}')\n",
    "\n",
    "\n",
    "\n",
    "\n",
    "\n",
    "#for indice in range(10):          #a variável elementos percorre cada valor na lista, como se espelhasse o valor do índice\n",
    "#    if lista_sorteada[indice]%2 == 0:\n",
    "#        position_par.append(indice)\n",
    "#    else:\n",
    "#        position_impar.append(indice)\n",
    "#print(f'Os índices que contém pares são:{position_par}')\n",
    "#print(f'Os índices que contém ímpares são:{position_impar}')"
   ]
  },
  {
   "cell_type": "code",
   "execution_count": 10,
   "id": "d3d24720",
   "metadata": {},
   "outputs": [
    {
     "name": "stdout",
     "output_type": "stream",
     "text": [
      "[3, 6, 4, 5, 1, 2, 9, 7, 8, 0]\n",
      "[3, 6, 4, 5]\n",
      "[2, 9, 7, 8, 0]\n",
      "[3, 4, 1, 9, 8]\n",
      "[6, 5, 2, 7, 0]\n",
      "[0, 8, 7, 9, 2, 1, 5, 4, 6, 3]\n",
      "[1, 5, 4, 6, 3]\n",
      "[9, 2, 1, 5]\n",
      "[0, 1, 2, 3, 4, 5, 6, 7, 8, 9]\n",
      "[9, 8, 7, 6, 5, 4, 3, 2, 1, 0]\n"
     ]
    }
   ],
   "source": [
    "import random\n",
    "sorteados = random.sample(range(10),10) # Pelo uso random.sample() o resultado é armazenado em uma lista\n",
    "print(sorteados) #lista toda\n",
    "print(sorteados[:4]) #letra a\n",
    "print(sorteados[-5:]) #letra b\n",
    "print(sorteados[::2]) #letra c\n",
    "print(sorteados[1::2]) #letra d\n",
    "print(sorteados[::-1]) #letra e\n",
    "print(sorteados[4::-1])#letra f\n",
    "print(sorteados[6::-1])#letra g\n",
    "\n",
    "#bônus\n",
    "sorteados.sort() #ordena crescente\n",
    "print(sorteados)\n",
    "sorteados.sort(reverse=True)\n",
    "print(sorteados)"
   ]
  },
  {
   "cell_type": "markdown",
   "id": "ddc694cd",
   "metadata": {},
   "source": [
    "13 – Faça um programa que sorteia 10 números entre 0 e 100 e conte quantos números sorteados são maiores que 50."
   ]
  },
  {
   "cell_type": "code",
   "execution_count": 11,
   "id": "7cb95540",
   "metadata": {},
   "outputs": [
    {
     "name": "stdout",
     "output_type": "stream",
     "text": [
      "A lista sorteada foi: [32, 83, 33, 81, 93, 20, 22, 71, 10, 95]\n",
      "Contém 5 números maiores que 50\n"
     ]
    }
   ],
   "source": [
    "import random\n",
    "lista10 = list()\n",
    "count = 0\n",
    "for i in range(0, 10):\n",
    "    sorteado = random.randint(0, 100)\n",
    "    lista10.append(sorteado)\n",
    "    if lista10[i]>50:\n",
    "        count+=1\n",
    "print(f\"A lista sorteada foi: {lista10}\\nContém {count} números maiores que 50\")"
   ]
  },
  {
   "cell_type": "markdown",
   "id": "40fd61f1",
   "metadata": {},
   "source": [
    "14 – Faça um programa que sorteie 10 números entre 0 e 100 e imprima:\n",
    "\n",
    "    a. O maior número sorteado;\n",
    "    b. O menor número sorteado;\n",
    "    c. A média dos números sorteados;\n",
    "    d. A soma dos números sorteados;"
   ]
  },
  {
   "cell_type": "code",
   "execution_count": 80,
   "id": "58b047f0",
   "metadata": {},
   "outputs": [
    {
     "name": "stdout",
     "output_type": "stream",
     "text": [
      "A lista sorteada foi: [23, 44, 48, 31, 44, 22, 48, 51, 14, 82]\n",
      "O maior número é 82\n",
      "O menor número é 14\n",
      "A média dos elementos é 40.7\n",
      "A soma entre os elementos é 407\n"
     ]
    }
   ],
   "source": [
    "soma = 0\n",
    "maior = max(lista10)\n",
    "menor = min(lista10)\n",
    "for i in range(10):\n",
    "    soma = lista10[i] + soma\n",
    "print(f'A lista sorteada foi: {lista10}')\n",
    "print(f'O maior número é {maior}')\n",
    "print(f'O menor número é {menor}')\n",
    "print(f'A média dos elementos é {soma/10}')\n",
    "print(f'A soma entre os elementos é {soma}')"
   ]
  },
  {
   "cell_type": "markdown",
   "id": "a9589311",
   "metadata": {},
   "source": [
    "## Desafios"
   ]
  },
  {
   "cell_type": "markdown",
   "id": "955c2a36",
   "metadata": {},
   "source": [
    "1 – Faça um programa que peça para o usuário digitar o nome e a idade de um aluno e o número de provas que esse aluno fez.. Depois, o programa deve pedir para o usuário digitar as notas de cada prova do aluno. Ao final o programa deve imprimir uma lista contendo:\n",
    "\n",
    "    a. Nome do aluno na posição 0; \n",
    "    b. Idade do aluno na posição 1; \n",
    "    c. Uma lista com todas as notas na posição 2;\n",
    "    d. A média do aluno na posição 3;\n",
    "    e. True ou False, caso a média seja maior que 5 ou não, na posição 4.\n",
    "Dica: Use o que você fez nos exercícios anteriores para criar esse programa.\n"
   ]
  },
  {
   "cell_type": "code",
   "execution_count": 27,
   "id": "36cef6d9",
   "metadata": {},
   "outputs": [
    {
     "name": "stdout",
     "output_type": "stream",
     "text": [
      "Digite seu nome: William Albuquerque\n",
      "Digite sua idade: 23\n",
      "Quantas provas você realizou? 3\n",
      "Digite a 1ª nota : 7\n",
      "Digite a 2ª nota : 8\n",
      "Digite a 3ª nota : 9\n",
      "['William Albuquerque', 23, [7.0, 8.0, 9.0], 8.0, True]\n"
     ]
    }
   ],
   "source": [
    "lista_aluno = list()\n",
    "lista_notas = list()\n",
    "soma = 0\n",
    "lista_aluno.append(str(input('Digite seu nome: '))) #posição 0\n",
    "lista_aluno.append(int(input('Digite sua idade: '))) #posição 1\n",
    "provas = int(input('Quantas provas você realizou? '))\n",
    "for i in range(0, provas):\n",
    "    lista_notas.append(float(input(f\"Digite a {i+1}ª nota : \")))\n",
    "    soma += lista_notas[i]\n",
    "lista_aluno.append(lista_notas)    #posição 2\n",
    "lista_aluno.append(soma/provas)  #posição 3\n",
    "if (soma/provas) > 5:    #posição 4\n",
    "    lista_aluno.append(True)\n",
    "else:\n",
    "    lista_aluno.append(False)\n",
    "print(lista_aluno)"
   ]
  },
  {
   "cell_type": "markdown",
   "id": "4f7ac979",
   "metadata": {},
   "source": [
    "2 – Faça um programa como o do item anterior, porém que imprima a média sem considerar a maior e menor nota do aluno (nesse caso o número de provas precisa ser obrigatoriamente maior que dois).\n",
    "Dica: crie uma cópia com a lista de todas as notas antes de fazer a média."
   ]
  },
  {
   "cell_type": "code",
   "execution_count": null,
   "id": "3d6b3340",
   "metadata": {},
   "outputs": [],
   "source": []
  },
  {
   "cell_type": "markdown",
   "id": "f4fcc78f",
   "metadata": {},
   "source": [
    "3 – Faça um programa que pede para o usuário digitar o CPF e verifica se ele é válido. Para isso, primeiramente o programa deve multiplicar cada um dos 9 primeiros dígitos do CPF pelos números de 10 a 2 e somar todas as respostas. O resultado deve ser multiplicado por 10 e dividido por 11. O resto dessa divisão deve ser igual ao primeiro dígito verificador (10º dígito). Em seguida, o programa deve multiplicar cada um dos 10 primeiros dígitos do CPF pelos números de 11 a 2 e repetir o procedimento anterior para verificar o segundo dígito verificador.\n",
    "\n",
    "    Exemplo:\n",
    "\n",
    "   Se o CPF for 286.255.878-87 o programa deve fazer primeiro:\n",
    "   \n",
    "    x = (2*10 + 8*9 + 6*8 + 2*7 + 5*6 + 5*5 + 8*4 + 7*3 + 8*2)\n",
    "\n",
    "   Em seguida, o programa deve testar se x*10%11 == 8 (o décimo número do CPF). Se sim, o programa deve calcular:\n",
    "   \n",
    "    x = (2*11 + 8*10 + 6*9 + 2*8 + 5*7 + 5*6 + 8*5 + 7*4 + 8*3 + 8*2)\n",
    "    \n",
    "e verificar se x*10%11 == 7 (o décimo primeiro número do CPF)."
   ]
  },
  {
   "cell_type": "code",
   "execution_count": null,
   "id": "cd4c8e1b",
   "metadata": {},
   "outputs": [],
   "source": []
  }
 ],
 "metadata": {
  "kernelspec": {
   "display_name": "Python 3",
   "language": "python",
   "name": "python3"
  },
  "language_info": {
   "codemirror_mode": {
    "name": "ipython",
    "version": 3
   },
   "file_extension": ".py",
   "mimetype": "text/x-python",
   "name": "python",
   "nbconvert_exporter": "python",
   "pygments_lexer": "ipython3",
   "version": "3.8.8"
  }
 },
 "nbformat": 4,
 "nbformat_minor": 5
}
