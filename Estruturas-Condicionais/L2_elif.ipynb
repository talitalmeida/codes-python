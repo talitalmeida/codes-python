{
 "cells": [
  {
   "cell_type": "markdown",
   "id": "85b6f0ba",
   "metadata": {},
   "source": [
    "# Lista 2 - 22/10/21 - Estruturas condicionais e valores booleanos"
   ]
  },
  {
   "cell_type": "markdown",
   "id": "d91398ef",
   "metadata": {},
   "source": [
    "1 – Faça um programa que peça a idade do usuário e imprima se ele é maior ou menor de 18 anos."
   ]
  },
  {
   "cell_type": "code",
   "execution_count": 3,
   "id": "4300e3ff",
   "metadata": {},
   "outputs": [
    {
     "name": "stdout",
     "output_type": "stream",
     "text": [
      "Qual sua idade? 19\n",
      "Você é maior de idade!\n"
     ]
    }
   ],
   "source": [
    "idade = int(input('Qual sua idade? '))\n",
    "if idade > 17 and idade < 100:\n",
    "    print(\"Você é maior de idade!\")\n",
    "else:\n",
    "    if idade > 0 and idade < 17:\n",
    "        print(\"Você é menor de idade!\")\n",
    "    else:\n",
    "        print('\\nImpossível!')"
   ]
  },
  {
   "cell_type": "markdown",
   "id": "5cd843b2",
   "metadata": {},
   "source": [
    "2 – Faça um programa que peça um número e mostre se ele é positivo ou negativo."
   ]
  },
  {
   "cell_type": "code",
   "execution_count": 2,
   "id": "cf446109",
   "metadata": {},
   "outputs": [
    {
     "name": "stdout",
     "output_type": "stream",
     "text": [
      "Digite um número: 13\n",
      "Número positivo\n"
     ]
    }
   ],
   "source": [
    "num = float(input(\"Digite um número: \"))\n",
    "if num > 0:\n",
    "    print(\"Número positivo\")\n",
    "else:\n",
    "    if num < 0:\n",
    "        print(\"Número negativo\")\n",
    "    else:\n",
    "        print(\"0 é neutro\")"
   ]
  },
  {
   "cell_type": "markdown",
   "id": "2ec37bba",
   "metadata": {},
   "source": [
    "3 – Faça um programa que peça dois números e mostre o maior deles."
   ]
  },
  {
   "cell_type": "code",
   "execution_count": 3,
   "id": "042075b4",
   "metadata": {},
   "outputs": [
    {
     "name": "stdout",
     "output_type": "stream",
     "text": [
      "Digite um número: 1.70\n",
      "Digite um segundo número: 1.90\n",
      "\n",
      "1.9 é maior que 1.7\n"
     ]
    }
   ],
   "source": [
    "num1 = float(input(\"Digite um número: \"))\n",
    "num2 = float(input(\"Digite um segundo número: \"))\n",
    "if num1 > num2:\n",
    "    print(f'\\n{num1} é maior que {num2}')\n",
    "else:\n",
    "    if num2 > num1:\n",
    "        print(f'\\n{num2} é maior que {num1}')\n",
    "    else:\n",
    "        print(\"\\nSão números iguais\")"
   ]
  },
  {
   "cell_type": "markdown",
   "id": "79b5c921",
   "metadata": {},
   "source": [
    "4 – Faça um programa que leia a validade das informações:\n",
    "    \n",
    "    a) Idade: entre 0 e 150;   \n",
    "    b) Salário: maior que 0;\n",
    "\tc) Sexo: M, F ou Outro;\t\n",
    "    \n",
    "O programa deve imprimir uma mensagem de erro para cada informação inválida."
   ]
  },
  {
   "cell_type": "code",
   "execution_count": 6,
   "id": "ed69ed6d",
   "metadata": {
    "scrolled": true
   },
   "outputs": [
    {
     "name": "stdout",
     "output_type": "stream",
     "text": [
      "Digite sua idade: 19\n",
      "Idade válida\n",
      "\n",
      "Digite seu salário: R$ 1150\n",
      "Salário válido\n",
      "\n",
      "Qual seu sexo? f\n",
      "F\n"
     ]
    }
   ],
   "source": [
    "idade = int(input(\"Digite sua idade: \"))\n",
    "if idade < 0 and idade > 150:\n",
    "    print(\"Inválido, sua idade deve estar entre 0 e 150\")\n",
    "else:\n",
    "    print(\"Idade válida\")\n",
    "salario = float(input(\"\\nDigite seu salário: R$ \"))\n",
    "if salario < 0:\n",
    "    print(\"Inválido, seu salário deve ser acima de 0\")\n",
    "else:\n",
    "    print(\"Salário válido\")\n",
    "sexo = str(input(\"\\nQual seu sexo? \" ))\n",
    "if sexo == \"m\":\n",
    "    print(sexo.upper())\n",
    "else:\n",
    "    if (sexo == \"f\" ):\n",
    "        print(sexo.upper())\n",
    "    else:\n",
    "        if sexo == \"outro\":\n",
    "            stringO = sexo.capitalize()\n",
    "            print(stringO)\n",
    "        else: \n",
    "            print (\"\\nOpção para sexo inválida, suas opções são: \")\n",
    "            print(\"M\\nF\\nOutro\")        "
   ]
  },
  {
   "cell_type": "markdown",
   "id": "6df25854",
   "metadata": {},
   "source": [
    "5 – Escreva um programa que peça a nota de 3 provas de um aluno e verifique se ele passou ou não de ano.\n",
    "\n",
    "    Obs.: O aluno passará de ano se sua média for maior que 6."
   ]
  },
  {
   "cell_type": "code",
   "execution_count": 5,
   "id": "3b195073",
   "metadata": {},
   "outputs": [
    {
     "name": "stdout",
     "output_type": "stream",
     "text": [
      "Insira sua nota da 1a prova: 9\n",
      "Insira sua nota da 2a prova: 3\n",
      "Insira sua nota da 3a prova: 6\n",
      "\n",
      "Aprovado\n"
     ]
    }
   ],
   "source": [
    "nota1 = float(input(\"Insira sua nota da 1a prova: \"))\n",
    "nota2 = float(input(\"Insira sua nota da 2a prova: \"))\n",
    "nota3 = float(input(\"Insira sua nota da 3a prova: \"))\n",
    "resultado = (nota1+nota2+nota3)/3\n",
    "if resultado >= 6:\n",
    "    print(\"\\nAprovado\")\n",
    "else:\n",
    "    print(\"\\nReprovado\")"
   ]
  },
  {
   "cell_type": "markdown",
   "id": "06132c2c",
   "metadata": {},
   "source": [
    "6 – Faça um programa que mostre uma questão de múltipla escolha com 5 opções (letras a, b, c, d, e). Sabendo a resposta certa, o programa deve receber a opção do usuário e informar a letra que o usuário marcou e se a resposta está certa ou errada."
   ]
  },
  {
   "cell_type": "code",
   "execution_count": 6,
   "id": "892ff865",
   "metadata": {},
   "outputs": [
    {
     "name": "stdout",
     "output_type": "stream",
     "text": [
      "Qual opção corresponde ao resultado de 2+2?\n",
      "a)1\n",
      "b)2\n",
      "c)3\n",
      "d)4\n",
      "e)5\n",
      "d\n",
      "A miserável é uma gênia!\n"
     ]
    }
   ],
   "source": [
    "op = str(input(\"Qual opção corresponde ao resultado de 2+2?\\na)1\\nb)2\\nc)3\\nd)4\\ne)5\\n\"))\n",
    "if op == 'd':\n",
    "    print(\"A miserável é uma gênia!\")\n",
    "else:\n",
    "    if op == 'a' or op == 'b' or op == 'c' or op == 'e':\n",
    "        print(\"Tente de novo!\")\n",
    "    else:\n",
    "        print(\"Opção inexistente :( \")"
   ]
  },
  {
   "cell_type": "markdown",
   "id": "7b335b81",
   "metadata": {},
   "source": [
    "7 – Vamos fazer um programa para verificar quem é o assassino de um crime. Para descobrir o assassino, a polícia faz um pequeno questionário com 5 perguntas onde a resposta só pode ser sim ou não:\n",
    "\t\n",
    "    a) Mora perto da vítima?\n",
    "\tb) Já trabalhou com a vítima?\n",
    "\tc) Telefonou para a vítima?\n",
    "\td) Esteve no local do crime?\n",
    "\te) Devia para a vítima?\n",
    "    \n",
    "Cada resposta “sim” dá um ponto para o suspeito. A polícia considera que os suspeitos com 5 pontos são os assassinos, com 4 a 3 pontos são cúmplices e 2 pontos são apenas suspeitos, necessitando outras investigações. Valores iguais ou abaixo de 1 são liberados."
   ]
  },
  {
   "cell_type": "code",
   "execution_count": 1,
   "id": "0dd6679a",
   "metadata": {},
   "outputs": [
    {
     "name": "stdout",
     "output_type": "stream",
     "text": [
      "Questionário\n",
      "a) Mora perto da vítima?\n",
      "não\n",
      "\n",
      "b) Já trabalhou com a vítima?\n",
      "não\n",
      "\n",
      "c) Telefonou para a vítima?\n",
      "sim\n",
      "\n",
      "d) Esteve no local do crime?\n",
      "não\n",
      "\n",
      "e) Devia para a vítima?\n",
      "não\n",
      "\n",
      "Liberado\n"
     ]
    }
   ],
   "source": [
    "'''\n",
    "Professor, antes de ler o código, deixo algumas considerações:\n",
    "1 - O código segue à risca estrutura condicional;\n",
    "2 - Fiz todas as validações possíveis p não tirarem graça no questionário.\n",
    " Isso quer dizer que se for inserido um valor diferente de sim ou não, o questionário deverá ser refeito.\n",
    " Mas não vai ser refeito porque não uso estrutura de repetição\n",
    " \n",
    " Existem formas mais fáceis?\n",
    " Volte ao item 1.\n",
    "'''\n",
    "a = str(input(\"Questionário\\na) Mora perto da vítima?\\n\"))\n",
    "if a == 'sim': \n",
    "    a1 = 1    #A variável a1 contabiliza 1 ponto para sim na primeira pergunta\n",
    "else:\n",
    "    if a == 'não':\n",
    "        a1 = 0\n",
    "    else:\n",
    "        print(\"Resposta inválida\")\n",
    "        a1 = -1       \n",
    "b = str(input(\"\\nb) Já trabalhou com a vítima?\\n\"))\n",
    "if b =='sim':\n",
    "    b1 = 1        #A variável b1 contabiliza 1 ponto para sim na segunda pergunta\n",
    "else:\n",
    "    if b == 'não':\n",
    "        b1 = 0\n",
    "    else:\n",
    "        print(\"Resposta inválida\")\n",
    "        b1 = -1        \n",
    "c = str(input(\"\\nc) Telefonou para a vítima?\\n\"))\n",
    "if c =='sim':\n",
    "    c1 = 1       #A variável c1 contabiliza 1 ponto para sim na terceira pergunta\n",
    "else:\n",
    "    if c == 'não':\n",
    "        c1 = 0\n",
    "    else:\n",
    "        print(\"Resposta inválida\")\n",
    "        c1 = -1\n",
    "d = str(input(\"\\nd) Esteve no local do crime?\\n\"))\n",
    "if d =='sim':\n",
    "    d1 = 1      #A variável d1 contabiliza 1 ponto para sim na quarta pergunta\n",
    "else:\n",
    "    if d == 'não':\n",
    "        d1 = 0\n",
    "    else:\n",
    "        print(\"Resposta inválida\")\n",
    "        d1 = -1\n",
    "e = str(input(\"\\ne) Devia para a vítima?\\n\"))\n",
    "if e =='sim':\n",
    "    e1 = 1       #A variável e1 contabiliza 1 ponto para sim na quinta pergunta\n",
    "else:\n",
    "    if e == 'não':\n",
    "        e1 = 0\n",
    "    else:\n",
    "        print(\"Resposta inválida\")\n",
    "        e1 = -1\n",
    "pontos = a1+b1+c1+d1+e1          #somatório da pontuação\n",
    "if (a != 'sim' and a !='não') or (b != 'sim' and 'não') or (c != 'sim' and 'não') or (d != 'sim' and 'NÃO') or (e != 'SIM' and 'NÃO'):\n",
    "#if a1 == -1 or b1 == -1 or c1 == -1 or d1 == -1 or e1 == -1:   #caso alguma das opções esteja diferente de sim ou não\n",
    "    print(\"\\n----------- Refaça o questionário -----------\")\n",
    "else:    \n",
    "    if pontos == 5:\n",
    "        print(\"\\nAssassino!\")\n",
    "    else:\n",
    "        if pontos == 4 or pontos == 3:\n",
    "            print(\"\\nCúmplice\")\n",
    "        elif pontos == 2:\n",
    "            print(\"\\nSuspeito\")\n",
    "        elif pontos == 1 or pontos == 0:  #usar elif, p mim, é deixar a condição aberta. Isso é apenas um teste\n",
    "            print ('\\nLiberado')"
   ]
  },
  {
   "cell_type": "markdown",
   "id": "1ae6631d",
   "metadata": {},
   "source": [
    "8 – Um produto vai sofrer aumento de acordo com a Tabela 1 abaixo. Faça um programa que peça para o usuário digitar o valor do produto de acordo com o preço antigo e escreva uma das mensagens da Tabela 2, de acordo com o preço reajustado:\n",
    "\n",
    "                   Tabela 1\n",
    "\n",
    "        Preço Antigo     % de aumento\n",
    "    Até 50 reais             5%\n",
    "    Entre 50 e 100 reais     10%\n",
    "    De 100 a 150 reais       13%\n",
    "    Acima de 150 reais       15%\n",
    "\n",
    "\n",
    "                   Tabela 2\n",
    "\n",
    "            Preço Novo        Mensagem\n",
    "    Até 80 reais               Barato\n",
    "    Entre 80 e 115 reais       Razoável\n",
    "    De 115 a 150 reais         Normal\n",
    "    Entre 150 e 170 reais      Caro\n",
    "    Acima de 170 reais         Muito caro\n"
   ]
  },
  {
   "cell_type": "code",
   "execution_count": 2,
   "id": "d4ddb4aa",
   "metadata": {},
   "outputs": [
    {
     "name": "stdout",
     "output_type": "stream",
     "text": [
      "Digite o valor do produto antigo: R$ 120\n",
      "Novo valor: R$ 135.6\n",
      "Normal\n"
     ]
    }
   ],
   "source": [
    "valor_antigo = float(input(\"Digite o valor do produto antigo: R$ \"))\n",
    "if valor_antigo <= 50:\n",
    "    aumento = (50*5)/100\n",
    "    valor_novo = aumento+valor_antigo\n",
    "    print(f'Novo valor: R$ {valor_novo}')\n",
    "    if valor_novo <= 80:\n",
    "        print(\"Barato\")\n",
    "    else:\n",
    "        if valor_novo > 80 and valor_novo <= 115:\n",
    "            print(\"Razoável\")\n",
    "else:\n",
    "    if valor_antigo >50 and valor_antigo <=100:\n",
    "        aumento = (valor_antigo*10)/100\n",
    "        valor_novo = aumento + valor_antigo\n",
    "        print(f'Novo valor: R$ {valor_novo}')\n",
    "        if valor_novo <= 80:\n",
    "            print(\"Barato\")\n",
    "        else:\n",
    "            if valor_novo > 80 and valor_novo <= 115:\n",
    "                print(\"Razoável\")\n",
    "    else:\n",
    "        if valor_antigo > 100 and valor_antigo <=150:\n",
    "            aumento = (valor_antigo*13)/100\n",
    "            valor_novo = aumento + valor_antigo\n",
    "            print(f'Novo valor: R$ {valor_novo}')\n",
    "            if valor_novo > 80 and valor_novo <= 115:\n",
    "                print(\"Razoável\")\n",
    "            else:\n",
    "                if valor_novo > 115 and valor_novo <= 150:\n",
    "                    print(\"Normal\")\n",
    "                else:\n",
    "                    if valor_novo > 150 and valor_novo <= 170:\n",
    "                        print(\"Caro\")\n",
    "        else:\n",
    "            if valor_antigo > 150:\n",
    "                aumento = (valor_antigo*15)/100\n",
    "                valor_novo = aumento + valor_antigo\n",
    "                print(f'Novo valor: R$ {valor_novo}')\n",
    "                if valor_novo > 150 and valor_novo <= 170:\n",
    "                    print(\"Caro\")\n",
    "                else:\n",
    "                    if valor_novo > 170:\n",
    "                        print(\"Muito caro\")"
   ]
  },
  {
   "cell_type": "markdown",
   "id": "3966550c",
   "metadata": {},
   "source": [
    "## Desafios"
   ]
  },
  {
   "cell_type": "markdown",
   "id": "4a63028c",
   "metadata": {},
   "source": [
    "1 - Faça um programa que leia 3 números e informe o maior deles."
   ]
  },
  {
   "cell_type": "code",
   "execution_count": 3,
   "id": "7447deba",
   "metadata": {},
   "outputs": [
    {
     "name": "stdout",
     "output_type": "stream",
     "text": [
      "Digite um número: 120\n",
      "Digite um segundo número: 1009\n",
      "Digite um terceiro número: -4\n",
      "\n",
      "1009.0 é maior que 120.0 e -4.0\n"
     ]
    }
   ],
   "source": [
    "num1 = float(input(\"Digite um número: \"))\n",
    "num2 = float(input(\"Digite um segundo número: \"))\n",
    "num3 = float(input(\"Digite um terceiro número: \"))\n",
    "if num1 > num2 and num1 > num3:\n",
    "    print(f'\\n{num1} é maior que {num2} e {num3}')\n",
    "else:\n",
    "    if num2 > num1 and num2 > num3:\n",
    "        print(f'\\n{num2} é maior que {num1} e {num3}') \n",
    "    else:\n",
    "        if num3 > num1 and num3 > num2:\n",
    "            print(f'\\n{num3} é maior que {num1} e {num2}')\n",
    "        else:\n",
    "            print(\"\\nSão números iguais\")"
   ]
  },
  {
   "cell_type": "markdown",
   "id": "995b71e2",
   "metadata": {},
   "source": [
    "2 – Faça o mesmo programa do exercício anterior, porém com 4 números."
   ]
  },
  {
   "cell_type": "code",
   "execution_count": 7,
   "id": "4742aac2",
   "metadata": {},
   "outputs": [
    {
     "name": "stdout",
     "output_type": "stream",
     "text": [
      "Digite um número: 2\n",
      "Digite um segundo número: 2\n",
      "Digite um terceiro número: 2\n",
      "Digite um quarto número: 2\n",
      "\n",
      "São números iguais\n"
     ]
    }
   ],
   "source": [
    "num1 = float(input(\"Digite um número: \"))\n",
    "num2 = float(input(\"Digite um segundo número: \"))\n",
    "num3 = float(input(\"Digite um terceiro número: \"))\n",
    "num4 = float(input(\"Digite um quarto número: \"))\n",
    "if num1 > num2 and num1 > num3 and num1 > num4 :\n",
    "    print(f'\\n{num1} é maior que {num2}, {num3} e {num4}')\n",
    "else:\n",
    "    if num2 > num1 and num2 > num3 and num2 > num4:\n",
    "        print(f'\\n{num2} é maior que {num1}, {num3} e {num4}') \n",
    "    else:\n",
    "        if num3 > num1 and num3 > num2 and num3 > num4:\n",
    "            print(f'\\n{num3} é maior que {num1}, {num2} e {num4} ')\n",
    "        else:\n",
    "            if num4 > num1 and num4 > num2 and num4 > num3:\n",
    "                print(f'\\n{num4} é maior que {num1}, {num2} e {num3} ')\n",
    "            else:\n",
    "                print(\"\\nSão números iguais\")"
   ]
  },
  {
   "cell_type": "markdown",
   "id": "1506539d",
   "metadata": {},
   "source": [
    "3 – Um hospital quer fazer o diagnóstico de gripe ou dengue a partir de um questionário de sintomas, tendo as perguntas abaixo, faça um programa que faça o diagnóstico deste hospital:\n",
    "\t\n",
    "    a) Sente dor no corpo?\n",
    "\tb) Você tem febre?\n",
    "\tc) Você tem tosse?\n",
    "\td) Está com congestão nasal?\n",
    "\te) Tem manchas pelo corpo?\n",
    "    \n",
    "Para o diagnóstico ele tem a seguinte tabela:\n",
    "\n",
    "        A     B     C     D     E     Resultado\n",
    "        Sim   Sim   Não   Não   Sim   Dengue\n",
    "        Sim   Sim   Sim   Sim   Não   Gripe\n",
    "        Não   Sim   Sim   Sim   Não   Gripe\n",
    "        Sim   Não   Não   Não   Não   Nada\n",
    "        Não   Não   Não   Não   Não   Nada"
   ]
  },
  {
   "cell_type": "code",
   "execution_count": 10,
   "id": "5b18238e",
   "metadata": {},
   "outputs": [
    {
     "name": "stdout",
     "output_type": "stream",
     "text": [
      "Sente dor no corpo?\n",
      "Sim\n",
      "\n",
      "Você tem febre?\n",
      "Sim\n",
      "\n",
      "Você tem tosse?\n",
      "Não\n",
      "\n",
      "Está com congestão nasal?\n",
      "Não\n",
      "\n",
      "Tem manchas pelo corpo?\n",
      "Não\n",
      "\n",
      "Dengue\n"
     ]
    }
   ],
   "source": [
    "a = str(input(\"Sente dor no corpo?\\n\"))\n",
    "b = str(input(\"\\nVocê tem febre?\\n\"))\n",
    "c = str(input(\"\\nVocê tem tosse?\\n\"))\n",
    "d = str(input(\"\\nEstá com congestão nasal?\\n\"))\n",
    "e = str(input(\"\\nTem manchas pelo corpo?\\n\"))\n",
    "if (a != 'Sim' and a != 'Não') or (b != 'Sim' and b != 'Não') or (c != 'Sim' and c != 'Não') or (d != 'Sim' and d != 'Não') or (e != 'Sim' and e != 'Não'):\n",
    "    print(\"\\nVálido somente 'Sim' ou 'Não'\\n----------- Refaça o questionário -----------\")\n",
    "else:\n",
    "    if a == 'Sim' and b == 'Sim' and c == 'Não' and d == 'Não' and e == 'Não':\n",
    "        print(\"\\nDengue\")\n",
    "    else:\n",
    "        if a == 'Sim' and b == 'Sim' and c == 'Sim' and d == 'Sim' and e == 'Não':\n",
    "            print(\"\\nGripe\")\n",
    "        else:\n",
    "            if a == 'Não' and b == 'Sim' and c == 'Sim' and d == 'Sim' and e == 'Não':\n",
    "                print(\"\\nGripe\")\n",
    "            else:\n",
    "                if a == 'Sim' and b == 'Não' and c == 'Não' and d == 'Não' and e == 'Não':\n",
    "                    print(\"\\nNada\")\n",
    "                else:\n",
    "                    if a == 'Não' and b == 'Não' and c == 'Não' and d == 'Não' and e == 'Não':\n",
    "                        print(\"\\nNada\")\n",
    "                    else:\n",
    "                        print('\\nNão está no quadro de diagnóstico')"
   ]
  }
 ],
 "metadata": {
  "kernelspec": {
   "display_name": "Python 3",
   "language": "python",
   "name": "python3"
  },
  "language_info": {
   "codemirror_mode": {
    "name": "ipython",
    "version": 3
   },
   "file_extension": ".py",
   "mimetype": "text/x-python",
   "name": "python",
   "nbconvert_exporter": "python",
   "pygments_lexer": "ipython3",
   "version": "3.8.8"
  }
 },
 "nbformat": 4,
 "nbformat_minor": 5
}
