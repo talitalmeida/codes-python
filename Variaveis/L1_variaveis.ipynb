{
 "cells": [
  {
   "cell_type": "markdown",
   "id": "7998b8fc",
   "metadata": {},
   "source": [
    "# Lista 1 - 29/10/21 - Variáveis, entradas e saídas"
   ]
  },
  {
   "cell_type": "markdown",
   "id": "a004a6ce",
   "metadata": {},
   "source": [
    " 1) Faça um programa que mostre a mensagem “Olá, mundo!” na tela."
   ]
  },
  {
   "cell_type": "code",
   "execution_count": 1,
   "id": "73834166",
   "metadata": {},
   "outputs": [
    {
     "name": "stdout",
     "output_type": "stream",
     "text": [
      "Olá, mundo!\n"
     ]
    }
   ],
   "source": [
    "print('Olá, mundo!')"
   ]
  },
  {
   "cell_type": "markdown",
   "id": "b809ad78",
   "metadata": {},
   "source": [
    "2) Faça um programa que peça um número e mostre a mensagem “O número informado foi [número]”."
   ]
  },
  {
   "cell_type": "code",
   "execution_count": 2,
   "id": "d91cb180",
   "metadata": {},
   "outputs": [
    {
     "name": "stdout",
     "output_type": "stream",
     "text": [
      "Insira um número: 5\n",
      "O número informado foi 5.\n"
     ]
    }
   ],
   "source": [
    "num= int(input(\"Insira um número: \"))\n",
    "print(f'O número informado foi {num}.')"
   ]
  },
  {
   "cell_type": "markdown",
   "id": "b86f402b",
   "metadata": {},
   "source": [
    "3) Faça um programa que peça um número para o usuário (string), converta-o para float e depois imprima-o na tela. Você consegue fazer a mesma coisa, porém convertendo para int?"
   ]
  },
  {
   "cell_type": "code",
   "execution_count": 7,
   "id": "60c69ac1",
   "metadata": {},
   "outputs": [
    {
     "name": "stdout",
     "output_type": "stream",
     "text": [
      "Insira um número:5\n",
      "5.0\n",
      "5\n",
      "<class 'int'>\n"
     ]
    }
   ],
   "source": [
    "x= input('Insira um número:')\n",
    "y=(float(x))\n",
    "print(y)\n",
    "x=0\n",
    "x=(int(y))\n",
    "print(x)"
   ]
  },
  {
   "cell_type": "markdown",
   "id": "ffc9a8dd",
   "metadata": {},
   "source": [
    "4) Faça um programa que peça dois números inteiros e imprima a soma deles."
   ]
  },
  {
   "cell_type": "code",
   "execution_count": 8,
   "id": "80650938",
   "metadata": {},
   "outputs": [
    {
     "name": "stdout",
     "output_type": "stream",
     "text": [
      "Insira um valor: 5\n",
      "Insira outro valor: 2\n",
      "A soma deles é 7\n"
     ]
    }
   ],
   "source": [
    "x = int(input(\"Insira um valor: \"))\n",
    "y = int(input(\"Insira outro valor: \"))\n",
    "print(f\"A soma deles é {x+y}\")"
   ]
  },
  {
   "cell_type": "markdown",
   "id": "1c79fa8e",
   "metadata": {},
   "source": [
    "5) Faça um programa que peça as 4 notas bimestrais de um aluno e mostre a média aritmética delas."
   ]
  },
  {
   "cell_type": "code",
   "execution_count": 10,
   "id": "417205e0",
   "metadata": {},
   "outputs": [
    {
     "name": "stdout",
     "output_type": "stream",
     "text": [
      "Insira a nota do 1º bimestre: 5\n",
      "Insira a nota do 2º bimestre: 6.75\n",
      "Insira a nota do 3º bimestre: 9\n",
      "Insira a nota do 4º bimestre: 10\n",
      "A média das suas notas é 7.7.\n"
     ]
    }
   ],
   "source": [
    "n1 = float(input(\"Insira a nota do 1º bimestre: \"))\n",
    "n2 = float(input(\"Insira a nota do 2º bimestre: \"))\n",
    "n3 = float(input(\"Insira a nota do 3º bimestre: \"))\n",
    "n4 = float(input(\"Insira a nota do 4º bimestre: \"))\n",
    "media = (n1+n2+n3+n4)/4\n",
    "print(f\"A média das suas notas é {media:.1f}.\")"
   ]
  },
  {
   "cell_type": "markdown",
   "id": "a7d023f0",
   "metadata": {},
   "source": [
    "6) Faça um programa que peça o raio de um círculo, calcule e mostre sua área.\n",
    "\n",
    "       Obs: Fórmula da área de um círculo: A = 3,14*(r**2), onde r é o raio."
   ]
  },
  {
   "cell_type": "code",
   "execution_count": 11,
   "id": "455bb521",
   "metadata": {},
   "outputs": [
    {
     "name": "stdout",
     "output_type": "stream",
     "text": [
      "Insira o raio de um círculo: 5\n",
      "A área do círculo é 78.50\n"
     ]
    }
   ],
   "source": [
    "raio = float(input(\"Insira o raio de um círculo: \"))\n",
    "area = 3.14*(raio**2)\n",
    "print(f\"A área do círculo é {area:.2f}\")"
   ]
  },
  {
   "cell_type": "markdown",
   "id": "aa8664ca",
   "metadata": {},
   "source": [
    "7) Faça um programa que pergunte quanto você ganha por hora e o número de horas trabalhadas no mês e depois, calcule e mostre o total do seu salário no referido mês."
   ]
  },
  {
   "cell_type": "code",
   "execution_count": 12,
   "id": "0b516cbb",
   "metadata": {},
   "outputs": [
    {
     "name": "stdout",
     "output_type": "stream",
     "text": [
      "Quanto vc ganha por hora? 9.70\n",
      "Quantas horas vc trabalha no mês120\n",
      "Seu ganho é de R$ 1164.00\n"
     ]
    }
   ],
   "source": [
    "valorh = float(input(\"Quanto vc ganha por hora? \"))\n",
    "horasm = int(input(\"Quantas horas vc trabalha no mês\"))\n",
    "print(f\"Seu ganho é de R$ {valorh*horasm:.2f}\")"
   ]
  },
  {
   "cell_type": "markdown",
   "id": "8723ba1f",
   "metadata": {},
   "source": [
    "8) Faça um programa que peça a temperatura em graus Fahrenheit (F), transforme e mostre a temperatura em graus Celsius (°C).\n",
    "\n",
    "        °C = (5 * (F-32) / 9)\n",
    "        \n",
    "Obs: Tente também fazer um programa que faça o inverso: peça a temperatura em graus Celsius e a transforme em graus Fahrenheit."
   ]
  },
  {
   "cell_type": "code",
   "execution_count": 14,
   "id": "eb5b795a",
   "metadata": {},
   "outputs": [
    {
     "name": "stdout",
     "output_type": "stream",
     "text": [
      "Insira a tempetura em graus Fahrenheit: 0\n",
      "A temperatura em graus Celsius é -17.8\n",
      "Me informe uma tempetura em graus Celsius: 32\n",
      "A temperatura em graus Fahrenheit é 89.6\n"
     ]
    }
   ],
   "source": [
    "gfahr= int(input(\"Insira a tempetura em graus Fahrenheit: \"))\n",
    "cels = (5 * (gfahr-32) / 9)\n",
    "print(f\"A temperatura em graus Celsius é {cels:.1f}\")\n",
    "celsius= int(input(\"Me informe uma tempetura em graus Celsius: \"))\n",
    "fahrenheit = float((celsius * 9/5) + 32 )\n",
    "print(f\"A temperatura em graus Fahrenheit é {fahrenheit:.1f}\")"
   ]
  },
  {
   "cell_type": "markdown",
   "id": "78416b70",
   "metadata": {},
   "source": [
    "9) Faça um programa que peça o dia, o mês e o ano para o usuário e imprima a data completa no formato dd/mm/aaaa."
   ]
  },
  {
   "cell_type": "code",
   "execution_count": null,
   "id": "6afd0fb0",
   "metadata": {},
   "outputs": [],
   "source": []
  },
  {
   "cell_type": "markdown",
   "id": "b76fc41c",
   "metadata": {},
   "source": [
    "10) Faça um programa que peça 2 números inteiros e um número real, calcule e mostre:\n",
    "\n",
    "    a) o produto do dobro do primeiro com metade do segundo.\n",
    "    b) a soma do triplo do primeiro com o terceiro.\n",
    "    c) o terceiro elevado ao cubo."
   ]
  },
  {
   "cell_type": "code",
   "execution_count": null,
   "id": "864538b5",
   "metadata": {},
   "outputs": [],
   "source": []
  },
  {
   "cell_type": "markdown",
   "id": "f9cc6569",
   "metadata": {},
   "source": [
    "11) Faça um programa que peça o peso e altura de uma pessoa e calcule seu IMC (Índice de Massa Corporal).\n",
    "\n",
    "        Obs: IMC = Peso/Altura**2"
   ]
  },
  {
   "cell_type": "code",
   "execution_count": null,
   "id": "cd7ecf3b",
   "metadata": {},
   "outputs": [],
   "source": []
  },
  {
   "cell_type": "markdown",
   "id": "fa7adf7e",
   "metadata": {},
   "source": [
    "12) Faça um programa que peça um valor monetário e aumente-o em 15%. Seu programa deve imprimir a mensagem “O novo valor é [valor]”."
   ]
  },
  {
   "cell_type": "code",
   "execution_count": null,
   "id": "d2cae0e9",
   "metadata": {},
   "outputs": [],
   "source": []
  },
  {
   "cell_type": "markdown",
   "id": "2f608373",
   "metadata": {},
   "source": [
    "13) Faça um programa que peça um valor monetário e diminua-o em 15%. Seu programa deve imprimir a mensagem “O novo valor é [valor]”."
   ]
  },
  {
   "cell_type": "code",
   "execution_count": null,
   "id": "5873cae7",
   "metadata": {},
   "outputs": [],
   "source": []
  },
  {
   "cell_type": "markdown",
   "id": "b72aa696",
   "metadata": {},
   "source": [
    "## Desafios"
   ]
  },
  {
   "cell_type": "markdown",
   "id": "4b46f313",
   "metadata": {},
   "source": [
    "1 - Peça para o usuário digitar uma velocidade inicial (em m/s), uma posição inicial (em m) e um instante de tempo (em s) e imprima a posição de um projétil nesse instante de tempo.\n",
    "\n",
    "Use a fórmula matemática:\n",
    "\n",
    "    y(t) = y(0) + v(0)*t + (g*(t**2)/2)\n",
    "    \n",
    "Onde, g é a aceleração da gravidade (-10m/s²), y(t) é a posição final, y(0) é a posição inicial, v(0) é a velocidade inicial e t é o instante de tempo."
   ]
  },
  {
   "cell_type": "code",
   "execution_count": null,
   "id": "e69888c7",
   "metadata": {
    "scrolled": true
   },
   "outputs": [],
   "source": [
    "v_i = float(input('Digite a velocidade inicial em m/s: '))\n",
    "p_i = float(input('Digite a posição inicial em m: '))\n",
    "i_t = float(input('Digite o instante de tempo em s: '))\n",
    "pos_fin = p_i + v_i*i_t + (-10*(i_t**2)/2)\n",
    "\n",
    "print(f'A posição de um projétil no instante de tempo acima é: {pos_fin:.1f}')"
   ]
  },
  {
   "cell_type": "markdown",
   "id": "67a64539",
   "metadata": {},
   "source": [
    "2 - Faça um programa que informe a data e a hora para o usuário. Para isso use a função datetime.now() do módulo datetime."
   ]
  },
  {
   "cell_type": "code",
   "execution_count": null,
   "id": "c0a04eb8",
   "metadata": {
    "scrolled": true
   },
   "outputs": [],
   "source": [
    "from datetime import datetime\n",
    "dt_h_hj = datetime.now()\n",
    "dt_hr_str = dt_h_hj.strftime(\"%d/%m/%Y %H:%M\")\n",
    "\n",
    "print(dt_hr_str)"
   ]
  }
 ],
 "metadata": {
  "kernelspec": {
   "display_name": "Python 3",
   "language": "python",
   "name": "python3"
  },
  "language_info": {
   "codemirror_mode": {
    "name": "ipython",
    "version": 3
   },
   "file_extension": ".py",
   "mimetype": "text/x-python",
   "name": "python",
   "nbconvert_exporter": "python",
   "pygments_lexer": "ipython3",
   "version": "3.8.8"
  }
 },
 "nbformat": 4,
 "nbformat_minor": 5
}
